{
 "cells": [
  {
   "cell_type": "code",
   "execution_count": 19,
   "metadata": {},
   "outputs": [],
   "source": [
    "import cv2 as cv\n",
    "import numpy as np\n",
    "import matplotlib.pyplot as plt\n",
    "import os\n",
    "import sys\n",
    "import time\n",
    "import math\n",
    "from pprint import pprint\n",
    "import pickle"
   ]
  },
  {
   "cell_type": "code",
   "execution_count": 25,
   "metadata": {},
   "outputs": [],
   "source": [
    "config = {\n",
    "    'minDist': 10,\n",
    "    'param1': 100,\n",
    "    'param2': 10,\n",
    "    'minRadius': 5,\n",
    "    'maxRadius': 8,\n",
    "    'dp': 1,\n",
    "    'blur_kernel': 5,\n",
    "    'circle_threshold': 0.5\n",
    "}    "
   ]
  },
  {
   "cell_type": "code",
   "execution_count": 20,
   "metadata": {},
   "outputs": [],
   "source": [
    "with open('clean_domino_config3.pickle', 'rb') as f:\n",
    "    board_config = pickle.load(f)"
   ]
  },
  {
   "cell_type": "code",
   "execution_count": 26,
   "metadata": {},
   "outputs": [
    {
     "name": "stdout",
     "output_type": "stream",
     "text": [
      "{'blur_kernel': 5,\n",
      " 'circle_threshold': 0.5,\n",
      " 'dp': 1,\n",
      " 'maxRadius': 8,\n",
      " 'minDist': 10,\n",
      " 'minRadius': 5,\n",
      " 'param1': 100,\n",
      " 'param2': 10}\n"
     ]
    }
   ],
   "source": [
    "pprint(config)"
   ]
  },
  {
   "cell_type": "code",
   "execution_count": 27,
   "metadata": {},
   "outputs": [],
   "source": [
    "def dict_to_latex_table(my_dict):\n",
    "    latex_table = \"\\\\begin{tabular}{ll}\\n\\\\hline\\n\"\n",
    "    latex_table += \"Key & Value \\\\\\\\\\n\\\\hline\\n\"\n",
    "    for key, value in my_dict.items():\n",
    "        key = key.replace(\"_\", \"\\\\_\")\n",
    "        latex_table += f\"{key} & {value} \\\\\\\\\\n\"\n",
    "    latex_table += \"\\\\hline\\n\\\\end{tabular}\"\n",
    "    return latex_table"
   ]
  },
  {
   "cell_type": "code",
   "execution_count": 28,
   "metadata": {},
   "outputs": [
    {
     "name": "stdout",
     "output_type": "stream",
     "text": [
      "\\begin{tabular}{ll}\n",
      "\\hline\n",
      "Key & Value \\\\\n",
      "\\hline\n",
      "minDist & 10 \\\\\n",
      "param1 & 100 \\\\\n",
      "param2 & 10 \\\\\n",
      "minRadius & 5 \\\\\n",
      "maxRadius & 8 \\\\\n",
      "dp & 1 \\\\\n",
      "blur\\_kernel & 5 \\\\\n",
      "circle\\_threshold & 0.5 \\\\\n",
      "\\hline\n",
      "\\end{tabular}\n"
     ]
    }
   ],
   "source": [
    "print(dict_to_latex_table(config))"
   ]
  },
  {
   "cell_type": "code",
   "execution_count": 24,
   "metadata": {},
   "outputs": [],
   "source": [
    "with open('../../docs/classify_domino_config.tex', 'w') as f:\n",
    "    f.write(dict_to_latex_table(config))"
   ]
  }
 ],
 "metadata": {
  "kernelspec": {
   "display_name": "aienv",
   "language": "python",
   "name": "python3"
  },
  "language_info": {
   "codemirror_mode": {
    "name": "ipython",
    "version": 3
   },
   "file_extension": ".py",
   "mimetype": "text/x-python",
   "name": "python",
   "nbconvert_exporter": "python",
   "pygments_lexer": "ipython3",
   "version": "3.11.3"
  }
 },
 "nbformat": 4,
 "nbformat_minor": 2
}
